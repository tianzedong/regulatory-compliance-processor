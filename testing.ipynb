{
 "cells": [
  {
   "cell_type": "code",
   "execution_count": null,
   "metadata": {},
   "outputs": [],
   "source": [
    "%load_ext autoreload\n",
    "%autoreload 2"
   ]
  },
  {
   "cell_type": "code",
   "execution_count": 7,
   "metadata": {},
   "outputs": [],
   "source": [
    "import os\n",
    "from src.file_loader import parse_docx, parse_pdf"
   ]
  },
  {
   "cell_type": "code",
   "execution_count": 8,
   "metadata": {},
   "outputs": [
    {
     "name": "stdout",
     "output_type": "stream",
     "text": [
      "Working directory: /Users/dongtianze/Documents/interface/document-processor\n",
      "Looking for PDFs in: /Users/dongtianze/Documents/interface/document-processor/data/regulations\n"
     ]
    }
   ],
   "source": [
    "reg_docs_dir = \"data/regulations\"  # Adjust to your actual path\n",
    "print(f\"Working directory: {os.getcwd()}\")\n",
    "print(f\"Looking for PDFs in: {os.path.abspath(reg_docs_dir)}\")"
   ]
  },
  {
   "cell_type": "code",
   "execution_count": 11,
   "metadata": {},
   "outputs": [
    {
     "name": "stdout",
     "output_type": "stream",
     "text": [
      "Length: 92880 characters\n",
      "Preview: Federal Aviation Administration, DOT Pt. 77\n",
      "released to the controlling agency for Subpart C—Prohibited Areas\n",
      "public use.\n",
      "(5) State the mean sea level altitudes §73.81 Applicability.\n",
      "or flight levels (whichever is appro- This subpart designates prohibited\n",
      "priate) used in aircraft operations and areas and prescribes limitations on the\n",
      "the maximum and average ordinate of operation of aircraft therein.\n",
      "surface firing (expressed in feet, mean\n",
      "sea level altitude) used on a daily, §73.83 Restrictions.\n",
      "weekly, and yearly basis. No person may operate an aircraft\n",
      "(6) Include a chart of the area (of op- within a prohibited area unless author-\n",
      "tional scale and design) depicting, if ization has been granted by the using\n",
      "used, aircraft operating areas, flight agency.\n",
      "patterns, ordnance delivery areas, sur-\n",
      "face firing points, and target, fan, and §73.85 Using agency.\n",
      "impact areas. After once submitting an For the purpose of this subpart, the\n",
      "appropriate chart, subsequent annual using agency is the ...\n"
     ]
    }
   ],
   "source": [
    "# Test with one PDF\n",
    "sample_pdf = os.path.join(reg_docs_dir, \"REG-14 CFR Part 77.pdf\")  # Replace with a real filename\n",
    "text = parse_pdf(sample_pdf)\n",
    "if text:\n",
    "    print(f\"Length: {len(text)} characters\")\n",
    "    print(f\"Preview: {text[:1000]}...\")\n",
    "else:\n",
    "    print(\"Failed to parse PDF\")"
   ]
  },
  {
   "cell_type": "code",
   "execution_count": null,
   "metadata": {},
   "outputs": [],
   "source": []
  }
 ],
 "metadata": {
  "kernelspec": {
   "display_name": "compliance-processor",
   "language": "python",
   "name": "python3"
  },
  "language_info": {
   "codemirror_mode": {
    "name": "ipython",
    "version": 3
   },
   "file_extension": ".py",
   "mimetype": "text/x-python",
   "name": "python",
   "nbconvert_exporter": "python",
   "pygments_lexer": "ipython3",
   "version": "3.11.11"
  }
 },
 "nbformat": 4,
 "nbformat_minor": 2
}
